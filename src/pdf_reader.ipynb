{
 "cells": [
  {
   "cell_type": "code",
   "execution_count": 16,
   "metadata": {},
   "outputs": [
    {
     "name": "stderr",
     "output_type": "stream",
     "text": [
      "CropBox missing from /Page, defaulting to MediaBox\n"
     ]
    },
    {
     "name": "stdout",
     "output_type": "stream",
     "text": [
      "text:\n",
      "051\n",
      "052\n",
      "052\n",
      "052\n",
      "001\n",
      "05\n",
      "053\n",
      "003\n",
      "003\n",
      "051\n",
      "052\n",
      "052\n",
      "052\n",
      "001\n",
      "大样图B-B\n",
      "05\n",
      "053\n",
      "003\n",
      "003\n",
      "强混变电所0.80m平面布置图\n",
      "客户名称\n",
      "客户工程编号 中冶长天国际工程有限责任公司\n",
      "大样图A-A\n",
      "客户图号\n",
      "审 定 设计部门 工 程\n",
      "组 审 设计专业 名 称\n",
      "校 审 设计阶段 子项名称\n",
      "设 计 比 例 图纸名称\n",
      "完成日期 图 幅 图 号 版次\n",
      "期\n",
      "日\n",
      "名\n",
      "姓\n",
      "业\n",
      "专\n",
      "期\n",
      "日\n",
      "名\n",
      "姓\n",
      "业\n",
      "专\n",
      "期\n",
      "日\n",
      "名\n",
      "姓\n",
      "业\n",
      "专\n",
      "于属权产识知纸图本 责限有程工际国天长冶中 ，可许面书经未，司公任 。用使和播传、制复得不\n",
      "仅\n",
      "供\n",
      "内\n",
      "部\n",
      "浏\n",
      "览\n",
      "，\n",
      "外\n",
      "传\n",
      "无\n",
      "效\n",
      "！\n",
      "宁波舟山港股份有限公司北仑矿石码头分公司\n",
      "何超 长天智能 中宅自动化混配矿项目\n",
      "李京 电力\n",
      "卢美媛 施工图设计 强混变电所\n",
      "欧阳叶 动力管线敷设图\n",
      "202211 A1 12.10002928.230.109-6\n"
     ]
    },
    {
     "name": "stderr",
     "output_type": "stream",
     "text": [
      "CropBox missing from /Page, defaulting to MediaBox\n"
     ]
    },
    {
     "name": "stdout",
     "output_type": "stream",
     "text": [
      "table:\n",
      " [[None, '期\\n日', '', '', '', '仅\\n供\\n内\\n部\\n浏\\n览\\n，\\n外\\n传\\n无\\n效\\n！\\n强混变电所0.80m平面布置图\\n051 051\\n052 052\\n052 052\\n052 052\\n001 001\\n05 05\\n053 053\\n003 003\\n003 003\\n客户名称 宁波舟山港股份有限公司北仑矿石码头分公司\\n客户工程编号 中冶长天国际工程有限责任公司\\n大样图B-B 大样图A-A\\n客户图号\\n审 定 何超 设计部门 长天智能 工 程 中宅自动化混配矿项目\\n组 审 李京 设计专业 电力 名 称\\n校 审卢美媛 设计阶段 施工图设计 子项名称 强混变电所\\n设 计欧阳叶 比 例 图纸名称 动力管线敷设图\\n完成日期 202211图 幅 A1 图 号 12.10002928.230.1版0次9-6', None, None, None], [None, '名\\n姓', '', '', '', None, None, None, None], ['', None, None, None, None, None, None, None, None], [None, '业\\n专', '', '', '', None, None, None, None], [None, '期\\n日', '', '', '', None, None, None, None], ['', '名\\n姓', '', '', '', None, None, None, None], [None, '业\\n专', '', '', '', None, None, None, None], ['', '期\\n日', '', '', '', None, None, None, None], [None, '名\\n姓', '', '', '', None, None, None, None], [None, '业\\n专', None, None, None, None, None, None, None], ['', None, None, None, None, None, None, None, None], [None, '于属权产识知纸图本 责限有程工际国天长冶中 ，可许面书经未，司公任 。用使和播传、制复得不', None, None, None, None, None, None, None], [None, '', None, None, None, None, None, None, None], [None, None, None, None, None, None, '矿石码头分公司\\n中冶长天国际工程有限责任公司', None, None], [None, None, None, None, None, None, '天智能 中宅自动化混配矿项目\\n工 程\\n电力 名 称', None, None], [None, None, None, None, None, None, '工图设计 子项名称 强混变电所', None, None], [None, None, None, None, None, None, '图纸名称 动力管线敷设图', None, None], [None, None, None, None, None, None, 'A1 图 号 12.10002928.230.', '1版0次9', '-6']]\n",
      "table:\n",
      " [['浏\\n览\\n，\\n外'], ['传\\n无\\n效\\n！']]\n",
      "table:\n",
      " [[''], [''], [''], [''], [''], [''], [''], [''], ['']]\n",
      "table:\n",
      " [[''], ['效'], ['！'], [''], [''], [''], [''], [''], ['']]\n",
      "table:\n",
      " [[''], [''], [''], [''], ['']]\n",
      "table:\n",
      " [[''], ['']]\n",
      "table:\n",
      " [['', '', ''], ['', '', ''], ['', '', '']]\n",
      "table:\n",
      " [['', '', ''], ['', '', ''], ['', '', ''], ['', '', ''], ['', '', ''], ['', '', ''], ['', '', ''], ['', '', ''], ['', '', ''], ['', '', ''], ['', '', ''], ['', '', ''], ['', '', ''], ['', '', ''], ['', '', '']]\n",
      "table:\n",
      " [['', ''], ['', ''], ['', ''], ['', ''], ['', ''], ['', '']]\n",
      "table:\n",
      " [['', ''], ['', None]]\n"
     ]
    }
   ],
   "source": [
    "import pdfplumber\n",
    "\n",
    "text = \"\"\n",
    "\n",
    "with pdfplumber.open(r\"E:\\lsqtemp\\test\\12.10002928.230.109-6.pdf\") as pdf:\n",
    "    for page in pdf.pages:\n",
    "        print(f'text:\\n{page.extract_text()}')  # 文本\n",
    "        text = text + page.extract_text()\n",
    "        for table in page.extract_tables():  # 表格\n",
    "            print(f'table:\\n {table}')"
   ]
  },
  {
   "cell_type": "code",
   "execution_count": 17,
   "metadata": {},
   "outputs": [
    {
     "name": "stdout",
     "output_type": "stream",
     "text": [
      "完整匹配: 202211 A1 12 10002928 230 109 6\n",
      "分解结果:\n",
      "  年份月份: 202211\n",
      "  A部分: A1\n",
      "  后续部分: 12.10002928.230.109-6\n",
      "----------------------------------------\n"
     ]
    }
   ],
   "source": [
    "import re\n",
    "\n",
    "pattern = r\"\"\"\n",
    "    \\b\n",
    "    (\\d{4}\\.\\d{1,2}|\\d{6})  # 年份月份（YYYY.MM 或 YYYYMM）\n",
    "    \\s+\n",
    "    ([\\d.]*A[\\d.]+)          # A部分（允许A前无数字）\n",
    "    \\s+\n",
    "    ([\\w.]+)\\.([\\w.]+)\\.([\\w.]+)\\.([\\w()（）]+)-([\\w]+)  # 后续部分（支持中文括号）\n",
    "    \\b\n",
    "\"\"\"\n",
    "\n",
    "# 使用 re.VERBOSE 允许换行和注释\n",
    "matches = re.findall(pattern, text, re.VERBOSE)\n",
    "\n",
    "# 输出匹配结果\n",
    "for match in matches:\n",
    "    print(\"完整匹配:\", \" \".join(match))\n",
    "    print(\"分解结果:\")\n",
    "    print(f\"  年份月份: {match[0]}\")\n",
    "    print(f\"  A部分: {match[1]}\")\n",
    "    print(f\"  后续部分: {match[2]}.{match[3]}.{match[4]}.{match[5]}-{match[6]}\")\n",
    "    print(\"-\" * 40)"
   ]
  },
  {
   "cell_type": "code",
   "execution_count": null,
   "metadata": {},
   "outputs": [],
   "source": []
  }
 ],
 "metadata": {
  "kernelspec": {
   "display_name": "Python 3",
   "language": "python",
   "name": "python3"
  },
  "language_info": {
   "codemirror_mode": {
    "name": "ipython",
    "version": 3
   },
   "file_extension": ".py",
   "mimetype": "text/x-python",
   "name": "python",
   "nbconvert_exporter": "python",
   "pygments_lexer": "ipython3",
   "version": "3.12.6"
  }
 },
 "nbformat": 4,
 "nbformat_minor": 2
}
