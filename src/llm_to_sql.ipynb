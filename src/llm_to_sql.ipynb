{
 "cells": [
  {
   "cell_type": "code",
   "execution_count": 18,
   "metadata": {},
   "outputs": [],
   "source": [
    "system_prompt ='''\n",
    "请根据用户提供的自然语言描述生成一个MongoDB的查询对象，除非用户明确指出待查询的关键字为精确匹配，否则查询对象应支持模糊匹配。\n",
    "用户输入的内容放置在<input></input>标签中，根据以下步骤生成查询对象：\n",
    "1. 首先识别用户是否是询问了关于某个问题，如“查找项目名称包含‘***’的记录”、“查找可能设备名称‘****’的信息”等，并提取关键词。\n",
    "2. 如果用户提出的不是相关查询信息，则询问用户是否需要进一步说明，如“请问您要查找哪个项目的设备信息？”、“请问您要查找哪个设备的采购信息？”等。\n",
    "3. 如果识别到关键字，将关键字进行提取并按照<requirements></requirements>中的要求输出符合mongodb查询语法的查询对象，最后将完整的查询对象输出在<query></query>标签中。\n",
    "<requirements>\n",
    "目标集合的名称为`equipment_collection`包含以下字段：`project_name`（字符串，项目名称）、`contract_number`（字符串，合同编号）、`contract_type`（字符串，合同类型）、\\\n",
    "`subitem_name`（字符串，子项名称）、`device_name`（字符串，设备名称）、`specification_material`（字符串，规格材质）、\\\n",
    "`manufacturer`（字符串，制造商）。\n",
    "用户的需求是：查找与输入关键词相关的所有记录，关键词可能出现在上述任意字段中。\n",
    "如果是模糊匹配要求（大小写不敏感），覆盖所有可能的数据，查询结果包含所有字段。\n",
    "注意不要虚构任何数据并按照用户的需求进行查询。\n",
    "构建的查询语句应该以`db.equipment_collection.find(${query_json})`为模板。\n",
    "只需要提供完整的MongoDB查询对象`query_json`，输出在<query></query>标签中，并确保语法正确。\n",
    "</requirements>\n",
    "'''"
   ]
  },
  {
   "cell_type": "code",
   "execution_count": 19,
   "metadata": {},
   "outputs": [
    {
     "name": "stdout",
     "output_type": "stream",
     "text": [
      "<think>\n",
      "好的，我需要处理用户的查询：“BGYRHS-2023-14有哪些哪些设备？”。首先，用户的问题是关于查找特定合同编号下的设备信息。根据要求，我要生成MongoDB的查询对象。\n",
      "\n",
      "首先，确定用户是否在询问查询相关信息。这里明显是在问设备，所以需要提取关键词。合同编号是“BGYRHS-2023-14”，用户想知道这个合同下的设备。根据需求，除非明确要精确匹配，否则支持模糊匹配。但合同编号通常是精确的，用户可能希望准确匹配。\n",
      "\n",
      "接下来，检查目标集合和字段。集合是equipment_collection，相关字段包括contract_number。用户需要查找该合同号的所有记录，并获取所有字段。因此查询条件应为contract_number等于“BGYRHS-2023-14”。\n",
      "\n",
      "由于用户没有提到模糊匹配的需求，这里应该用精确匹配。所以查询对象应该是{ \"contract_number\": \"BGYRHS-2023-14\" }。\n",
      "\n",
      "确认是否覆盖所有可能字段：是的，因为只需要合同编号匹配，其他字段会自然包含在结果中。不需要虚构数据，符合用户需求。\n",
      "</think>\n",
      "\n",
      "<query>{\"contract_number\": \"BGYRHS-2023-14\"}</query>\n"
     ]
    }
   ],
   "source": [
    "from ollama import Client\n",
    "client = Client(\n",
    "  host='http://192.168.43.41:11434',\n",
    "  headers={'x-some-header': 'some-value'}\n",
    ")\n",
    "response = client.chat(model='qwq:latest', \n",
    "                       options={\n",
    "                           'temperature':0,\n",
    "                           \"num_ctx\": 4096,\n",
    "                       },\n",
    "                       messages=[\n",
    "  {'role':'system', 'content': system_prompt},\n",
    "  {\n",
    "    'role': 'user',\n",
    "    'content': f\"<input>BGYRHS-2023-14有哪些哪些设备？</input>\"+\"<think>\\n\",\n",
    "  },\n",
    "])\n",
    "print(response.message.content)\n",
    "\n",
    "input_text = response.message.content"
   ]
  },
  {
   "cell_type": "code",
   "execution_count": 41,
   "metadata": {},
   "outputs": [],
   "source": [
    "import re\n",
    "import json\n",
    "\n",
    "def extract_last_query_content(text):\n",
    "    pattern = r'<query>(.*?)</query>'\n",
    "    matches = list(re.finditer(pattern, text, re.DOTALL))\n",
    "    if matches:\n",
    "        return matches[-1].group(1)  # 返回最后一个匹配的捕获组\n",
    "    return None"
   ]
  },
  {
   "cell_type": "code",
   "execution_count": 42,
   "metadata": {},
   "outputs": [],
   "source": [
    "query_text = extract_last_query_content(input_text)"
   ]
  },
  {
   "cell_type": "code",
   "execution_count": 43,
   "metadata": {},
   "outputs": [
    {
     "data": {
      "text/plain": [
       "'{\"contract_number\": \"BGYRHS-2023-14\"}'"
      ]
     },
     "execution_count": 43,
     "metadata": {},
     "output_type": "execute_result"
    }
   ],
   "source": [
    "query_text"
   ]
  },
  {
   "cell_type": "code",
   "execution_count": null,
   "metadata": {},
   "outputs": [
    {
     "name": "stdout",
     "output_type": "stream",
     "text": [
      "找到的文档数量: 75\n"
     ]
    }
   ],
   "source": [
    "from pymongo import MongoClient\n",
    "\n",
    "\n",
    "# 连接到 MongoDB\n",
    "client = MongoClient('mongodb://localhost:27017/')\n",
    "db = client['equipment_db']  # 数据库名\n",
    "\n",
    "# 将字符串转换为字典\n",
    "query_dict = json.loads(query_text)\n",
    "\n",
    "# 执行查询\n",
    "results = db.equipment_collection.find(query_dict)\n",
    "\n",
    "# 打印结果\n",
    "print(\"找到的文档数量:\", len(list(results)))\n"
   ]
  }
 ],
 "metadata": {
  "kernelspec": {
   "display_name": "Python 3",
   "language": "python",
   "name": "python3"
  },
  "language_info": {
   "codemirror_mode": {
    "name": "ipython",
    "version": 3
   },
   "file_extension": ".py",
   "mimetype": "text/x-python",
   "name": "python",
   "nbconvert_exporter": "python",
   "pygments_lexer": "ipython3",
   "version": "3.12.7"
  }
 },
 "nbformat": 4,
 "nbformat_minor": 2
}
