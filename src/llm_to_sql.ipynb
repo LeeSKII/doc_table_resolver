{
 "cells": [
  {
   "cell_type": "code",
   "execution_count": null,
   "metadata": {},
   "outputs": [],
   "source": [
    "system_prompt ='''\n",
    "请根据用户提供的自然语言描述生成一个MongoDB的模糊查询语句。\n",
    "用户输入的内容放置在<input></input>标签中，根据以下步骤生成查询语句：\n",
    "1. 首先识别用户是否是询问了关于某个问题，如“查找项目名称包含‘***’的记录”、“查找可能设备名称‘****’的信息”等，并提取关键词。\n",
    "2. 如果用户提出的不是相关查询信息，则询问用户是否需要进一步说明，如“请问您要查找哪个项目的设备信息？”、“请问您要查找哪个设备的采购信息？”等。\n",
    "3. 如果识别到关键字，将关键字进行提取并按照<requirements></requirements>中的要求输出符合mongodb查询语法的查询语句，最后将完整的可执行查询代码输出在<query></query>中。\n",
    "<requirements>\n",
    "目标集合的名称为`equipment_collection`包含以下字段：`project_name`（字符串，项目名称）、`contract_number`（字符串，合同编号）、`contract_type`（字符串，合同类型）、\\\n",
    "`subitem_name`（字符串，子项名称）、`device_name`（字符串，设备名称）、`specification_material`（字符串，规格材质）、\\\n",
    "`manufacturer`（字符串，制造商）。\\\n",
    "用户的需求是：查找与输入关键词相关的所有记录，关键词可能出现在上述任意字段中。\n",
    "查询需要支持模糊匹配（大小写不敏感），并尽可能覆盖所有可能的数据，查询结果包含所有字段。\n",
    "注意不要虚构任何数据并按照用户的需求进行查询。\n",
    "请提供完整的MongoDB查询代码，并确保语法正确。\n",
    "</requirements>\n",
    "'''"
   ]
  },
  {
   "cell_type": "code",
   "execution_count": 11,
   "metadata": {},
   "outputs": [
    {
     "name": "stdout",
     "output_type": "stream",
     "text": [
      "<think>\n",
      "好的，我现在需要处理用户的这个查询：“宝钢德盛不锈钢有限公司烧结余热项目采购了哪些设备？”首先，我要确定用户的需求是什么。他们想知道这个特定项目下采购的设备信息。\n",
      "\n",
      "根据要求，我得先分析输入内容中的关键词。这里的关键显然有两个部分：公司名称“宝钢德盛不锈钢有限公司”和项目名称“烧结余热项目”。不过项目名称可能在数据库里的字段是project_name，所以需要把这两个结合起来作为搜索条件吗？或者用户提到的整个短语其实是完整的项目名称？\n",
      "\n",
      "接下来，我需要检查用户的问题是否符合查询需求。用户是在询问某个项目的设备采购情况，因此属于明确的查询请求，不需要进一步询问。\n",
      "\n",
      "现在要提取关键词。这里的主要关键词应该是“宝钢德盛不锈钢有限公司烧结余热项目”，但可能在project_name字段中存储的是完整的项目名称。或者公司名和项目名是分开的部分？比如，可能project_name是“烧结余热项目”，而合同或子项里有公司信息？不过根据问题描述中的输入示例，用户直接提到了整个公司加项目的名称，所以应该将整个短语作为project_name的模糊匹配条件。\n",
      "\n",
      "另外，用户问的是采购了哪些设备，因此需要查询所有相关的记录，并返回device_name等字段的信息。但根据要求，只要生成查询语句即可，不需要处理结果展示。\n",
      "\n",
      "接下来要考虑MongoDB的查询语法。因为要模糊匹配且不区分大小写，所以应该使用正则表达式。在MongoDB中，可以用$regex来实现，并设置$options为'i'表示忽略大小写。\n",
      "\n",
      "因此，构建查询条件时，project_name字段需要包含用户提供的整个项目名称字符串。可能用户的输入中的公司名和项目名是连在一起的，所以在project_name里应该匹配这个完整的字符串。所以正则表达式应该是/宝钢德盛不锈钢有限公司烧结余热项目/i，并且使用$regex来匹配。\n",
      "\n",
      "然后，查询语句需要覆盖所有相关字段吗？根据要求，关键词可能出现在任意字段中，但用户的问题明确是关于某个项目的设备采购，因此主要关注project_name是否匹配。不过题目中的要求指出“关键词可能出现在上述任意字段中”，所以是否要同时检查其他字段？\n",
      "\n",
      "仔细看用户的输入：“宝钢德盛不锈钢有限公司烧结余热项目采购了哪些设备？”这里的关键词可能指的是整个项目名称，而用户想知道这个项目的设备信息。因此，正确的做法是将project_name作为主要的匹配条件，因为问题明确指向某个项目下的设备。\n",
      "\n",
      "所以查询应该筛选出所有project_name中包含该字符串的记录，并返回这些记录中的device_name等信息。但根据要求，只要生成查询语句即可，不需要指定返回字段，除非用户特别说明。因此，最终的查询应该是：\n",
      "\n",
      "db.equipment_collection.find({\n",
      "  project_name: { $regex: \"宝钢德盛不锈钢有限公司烧结余热项目\", $options: \"i\" }\n",
      "})\n",
      "\n",
      "不过需要确认是否还有其他可能的关键词出现位置？比如合同编号或子项名称也可能包含相关信息吗？\n",
      "\n",
      "但根据用户的问题，他们明确询问的是某个项目的采购设备，所以project_name是关键字段。因此，正确的查询应该只针对project_name进行模糊匹配。\n",
      "\n",
      "现在检查是否有遗漏：用户输入中的“宝钢德盛不锈钢有限公司”是否可能作为制造商或其他字段的一部分？比如manufacturer可能是该公司，但问题中项目名称包含了公司名和项目名的组合，所以更合理的做法是将整个短语视为project_name的内容。因此，最终查询应该如上所述。\n",
      "\n",
      "确认MongoDB语法正确：使用find方法，正则表达式写法正确，并且options设置为i。\n",
      "</think>\n",
      "\n",
      "<requirements>\n",
      "目标集合的名称为`equipment_collection`包含以下字段：`project_name`（字符串，项目名称）、`contract_number`（字符串，合同编号）、`contract_type`（字符串，合同类型）、`subitem_name`（字符串，子项名称）、`device_name`（字符串，设备名称）、`specification_material`（字符串，规格材质）、`manufacturer`（字符串，制造商）。用户的需求是：查找与输入关键词相关的所有记录，关键词可能出现在上述任意字段中。\n",
      "查询需要支持模糊匹配（大小写不敏感），并尽可能覆盖所有可能的数据。\n",
      "注意不要虚构任何数据并按照用户的需求进行查询。\n",
      "请提供完整的MongoDB查询代码，并确保语法正确。\n",
      "</requirements>\n",
      "\n",
      "<query>\n",
      "db.equipment_collection.find({\n",
      "  $or: [\n",
      "    { project_name: { $regex: \"宝钢德盛不锈钢有限公司烧结余热项目\", $options: \"i\" } },\n",
      "    { contract_number: { $regex: \"宝钢德盛不锈钢有限公司烧结余热项目\", $options: \"i\" } },\n",
      "    { contract_type: { $regex: \"宝钢德盛不锈钢有限公司烧结余热项目\", $options: \"i\" } },\n",
      "    { subitem_name: { $regex: \"宝钢德盛不锈钢有限公司烧结余热项目\", $options: \"i\" } },\n",
      "    { device_name: { $regex: \"宝钢德盛不锈钢有限公司烧结余热项目\", $options: \"i\" } },\n",
      "    { specification_material: { $regex: \"宝钢德盛不锈钢有限公司烧结余热项目\", $options: \"i\" } },\n",
      "    { manufacturer: { $regex: \"宝钢德盛不锈钢有限公司烧结余热项目\", $options: \"i\" } }\n",
      "  ]\n",
      "})\n",
      "</query>\n"
     ]
    }
   ],
   "source": [
    "from ollama import Client\n",
    "client = Client(\n",
    "  host='http://192.168.43.41:11434',\n",
    "  headers={'x-some-header': 'some-value'}\n",
    ")\n",
    "response = client.chat(model='qwq:latest', \n",
    "                       options={\n",
    "                           'temperature':0,\n",
    "                           \"num_ctx\": 4096,\n",
    "                       },\n",
    "                       messages=[\n",
    "  {'role':'system', 'content': system_prompt},\n",
    "  {\n",
    "    'role': 'user',\n",
    "    'content': f\"<input>宝钢德盛不锈钢有限公司烧结余热项目采购了哪些设备？</input>\"+\"<think>\\n\",\n",
    "  },\n",
    "])\n",
    "print(response.message.content)\n",
    "\n",
    "input_text = response.message.content"
   ]
  },
  {
   "cell_type": "code",
   "execution_count": null,
   "metadata": {},
   "outputs": [],
   "source": []
  }
 ],
 "metadata": {
  "kernelspec": {
   "display_name": "Python 3",
   "language": "python",
   "name": "python3"
  },
  "language_info": {
   "codemirror_mode": {
    "name": "ipython",
    "version": 3
   },
   "file_extension": ".py",
   "mimetype": "text/x-python",
   "name": "python",
   "nbconvert_exporter": "python",
   "pygments_lexer": "ipython3",
   "version": "3.12.7"
  }
 },
 "nbformat": 4,
 "nbformat_minor": 2
}
