{
 "cells": [
  {
   "cell_type": "code",
   "execution_count": 32,
   "metadata": {},
   "outputs": [],
   "source": [
    "system_prompt ='''\n",
    "请根据用户提供的自然语言描述生成一个MongoDB的查询对象，除非用户明确指出待查询的关键字为精确匹配，否则查询对象应支持模糊匹配。\n",
    "用户输入的内容放置在<input></input>标签中，根据以下步骤生成查询对象：\n",
    "1. 首先识别用户是否是询问了关于某个问题，如“查找项目名称包含‘***’的记录”、“查找可能设备名称‘****’的信息”等，并提取关键词。\n",
    "2. 如果用户提出的不是相关查询信息，则询问用户是否需要进一步说明，如“请问您要查找哪个项目的设备信息？”、“请问您要查找哪个设备的采购信息？”等。\n",
    "3. 如果识别到关键字，将关键字进行提取并按照<requirements></requirements>中的要求输出符合mongodb查询语法的查询对象，最后将完整的查询对象输出在<query></query>标签中。\n",
    "<requirements>\n",
    "目标集合的名称为`equipment_collection`包含以下字段：`project_name`（字符串，项目名称）、`contract_number`（字符串，合同编号）、`contract_type`（字符串，合同类型）、\\\n",
    "`subitem_name`（字符串，子项名称）、`device_name`（字符串，设备名称）、`specification_material`（字符串，规格材质）、\\\n",
    "`manufacturer`（字符串，制造商）。\n",
    "用户的需求是：查找与输入关键词相关的所有记录，关键词可能出现在上述任意字段中。\n",
    "如果是模糊匹配要求（大小写不敏感），覆盖所有可能的数据，查询结果包含所有字段。\n",
    "注意不要虚构任何数据并按照用户的需求进行查询。\n",
    "构建的查询语句应该以`db.equipment_collection.find(${query_json})`为模板。\n",
    "只需要提供完整的MongoDB查询对象`query_json`，输出在<query></query>标签中，完整的<query></query>标签由<result></result>包裹，确保语法正确。\n",
    "</requirements>\n",
    "'''"
   ]
  },
  {
   "cell_type": "code",
   "execution_count": 33,
   "metadata": {},
   "outputs": [
    {
     "name": "stdout",
     "output_type": "stream",
     "text": [
      "<think>\n",
      "好的，我需要处理用户的查询：“包钢有哪些哪些设备？”。首先，用户的问题是询问包钢相关的设备信息，所以我要确定他们想查找的是设备名称包含“包钢”的记录。根据要求，除非明确指出要精确匹配，否则应该使用模糊匹配。\n",
      "\n",
      "接下来，检查用户输入是否属于查询类型。这里明显是在请求数据，所以需要提取关键词。“包钢”应该是关键字，可能出现在各个字段中，比如project_name、device_name等。\n",
      "\n",
      "然后按照requirements中的集合结构，目标是equipment_collection，包含多个字符串字段。需要构建一个MongoDB的查询对象，覆盖所有可能的字段，并且使用正则表达式进行模糊匹配（大小写不敏感）。\n",
      "\n",
      "要确保每个相关字段都有$regex条件，模式设置为“包钢”，并且用$i标志忽略大小写。这样就能在所有指定字段中搜索包含“包钢”的记录。同时，用户没有要求精确匹配，所以必须使用正则表达式而不是确切的字符串比较。\n",
      "\n",
      "最后，将查询对象格式化成正确的JSON结构，并放入<query>标签里。需要确认每个字段都正确应用了正则表达式，并且整个查询符合MongoDB的语法。这样生成的结果就能准确回应用户的请求了。\n",
      "</think>\n",
      "\n",
      "<result>\n",
      "<query>{\n",
      "  \"$or\": [\n",
      "    { \"project_name\": { \"$regex\": \"包钢\", \"$options\": \"i\" } },\n",
      "    { \"contract_number\": { \"$regex\": \"包钢\", \"$options\": \"i\" } },\n",
      "    { \"contract_type\": { \"$regex\": \"包钢\", \"$options\": \"i\" } },\n",
      "    { \"subitem_name\": { \"$regex\": \"包钢\", \"$options\": \"i\" } },\n",
      "    { \"device_name\": { \"$regex\": \"包钢\", \"$options\": \"i\" } },\n",
      "    { \"specification_material\": { \"$regex\": \"包钢\", \"$options\": \"i\" } },\n",
      "    { \"manufacturer\": { \"$regex\": \"包钢\", \"$options\": \"i\" } }\n",
      "  ]\n",
      "}</query>\n",
      "</result>\n"
     ]
    }
   ],
   "source": [
    "from ollama import Client\n",
    "client = Client(\n",
    "  host='http://192.168.43.41:11434',\n",
    "  headers={'x-some-header': 'some-value'}\n",
    ")\n",
    "response = client.chat(model='qwq:latest', \n",
    "                       options={\n",
    "                           'temperature':0,\n",
    "                           \"num_ctx\": 4096,\n",
    "                       },\n",
    "                       messages=[\n",
    "  {'role':'system', 'content': system_prompt},\n",
    "  {\n",
    "    'role': 'user',\n",
    "    'content': f\"<input>包钢有哪些哪些设备？</input>\"+\"<think>\\n\",\n",
    "  },\n",
    "])\n",
    "print(response.message.content)\n",
    "\n",
    "input_text = response.message.content"
   ]
  },
  {
   "cell_type": "code",
   "execution_count": 6,
   "metadata": {},
   "outputs": [],
   "source": [
    "import re\n",
    "import json\n",
    "\n",
    "def extract_last_query_content(text):\n",
    "    pattern = r'<query>(.*?)</query>'\n",
    "    matches = list(re.finditer(pattern, text, re.DOTALL))\n",
    "    if matches:\n",
    "        return matches[-1].group(1)  # 返回最后一个匹配的捕获组\n",
    "    return None"
   ]
  },
  {
   "cell_type": "code",
   "execution_count": 7,
   "metadata": {},
   "outputs": [],
   "source": [
    "query_text = extract_last_query_content(input_text)"
   ]
  },
  {
   "cell_type": "code",
   "execution_count": 8,
   "metadata": {},
   "outputs": [
    {
     "data": {
      "text/plain": [
       "'{\"contract_number\": \"BGYRHS-2023-14\"}'"
      ]
     },
     "execution_count": 8,
     "metadata": {},
     "output_type": "execute_result"
    }
   ],
   "source": [
    "query_text"
   ]
  },
  {
   "cell_type": "code",
   "execution_count": 9,
   "metadata": {},
   "outputs": [
    {
     "name": "stdout",
     "output_type": "stream",
     "text": [
      "找到的文档数量: 75\n"
     ]
    }
   ],
   "source": [
    "from pymongo import MongoClient\n",
    "\n",
    "\n",
    "# 连接到 MongoDB\n",
    "client = MongoClient('mongodb://localhost:27017/')\n",
    "db = client['equipment_db']  # 数据库名\n",
    "\n",
    "# 将字符串转换为字典\n",
    "query_dict = json.loads(query_text)\n",
    "\n",
    "# 执行查询\n",
    "results = db.equipment_collection.find(query_dict)\n",
    "\n",
    "# 打印结果\n",
    "print(\"找到的文档数量:\", len(list(results)))\n"
   ]
  },
  {
   "cell_type": "code",
   "execution_count": 36,
   "metadata": {},
   "outputs": [],
   "source": [
    "r = '''\n",
    "<think>\n",
    "好的，我需要处理用户的查询：“包钢有哪些哪些设备？”。首先，用户的问题是询问包钢相关的设备信息，所以我要确定他们想查找的是设备名称包含“包钢”的记录。根据要求，除非明确指出要精确匹配，否则应该使用模糊匹配。\n",
    "\n",
    "接下来，检查用户输入是否属于查询类型。这里明显是在请求数据，所以需要提取关键词。“包钢”应该是关键字，可能出现在各个字段中，比如project_name、device_name等。\n",
    "\n",
    "然后按照requirements中的集合结构，目标是equipment_collection，包含多个字符串字段。需要构建一个MongoDB的查询对象，覆盖所有可能的字段，并且使用正则表达式进行模糊匹配（大小写不敏感）。\n",
    "\n",
    "要确保每个相关字段都有$regex条件，模式设置为“包钢”，并且用$i标志忽略大小写。这样就能在所有指定字段中搜索包含“包钢”的记录。同时，用户没有要求精确匹配，所以必须使用正则表达式而不是确切的字符串比较。\n",
    "\n",
    "最后，将查询对象格式化成正确的JSON结构，并放入<query>标签里。需要确认每个字段都正确应用了正则表达式，并且整个查询符合MongoDB的语法。这样生成的结果就能准确回应用户的请求了。\n",
    "</think>\n",
    "\n",
    "<result>\n",
    "<query>{\n",
    "  \"$or\": [\n",
    "    { \"project_name\": { \"$regex\": \"包钢\", \"$options\": \"i\" } },\n",
    "    { \"contract_number\": { \"$regex\": \"包钢\", \"$options\": \"i\" } },\n",
    "    { \"contract_type\": { \"$regex\": \"包钢\", \"$options\": \"i\" } },\n",
    "    { \"subitem_name\": { \"$regex\": \"包钢\", \"$options\": \"i\" } },\n",
    "    { \"device_name\": { \"$regex\": \"包钢\", \"$options\": \"i\" } },\n",
    "    { \"specification_material\": { \"$regex\": \"包钢\", \"$options\": \"i\" } },\n",
    "    { \"manufacturer\": { \"$regex\": \"包钢\", \"$options\": \"i\" } }\n",
    "  ]\n",
    "}</query>\n",
    "</result>\n",
    "'''"
   ]
  },
  {
   "cell_type": "code",
   "execution_count": 34,
   "metadata": {},
   "outputs": [],
   "source": [
    "def extract_last_result_query(text):\n",
    "    \"\"\"\n",
    "    从文本中提取最后一个完整的 <result><query>...</query></result> 标签内容\n",
    "    \n",
    "    参数:\n",
    "        text (str): 输入的文本内容\n",
    "        \n",
    "    返回:\n",
    "        str: 最后一个完整的 <query> 标签内的内容，如果没有找到则返回 None\n",
    "    \"\"\"\n",
    "    # 使用正则表达式匹配所有 <result><query>...</query></result> 块\n",
    "    pattern = r'<result>\\s*<query>(.*?)</query>\\s*</result>'\n",
    "    matches = re.findall(pattern, text, re.DOTALL)\n",
    "    \n",
    "    # 如果找到匹配项，返回最后一个\n",
    "    if matches:\n",
    "        return matches[-1].strip()\n",
    "    else:\n",
    "        return None"
   ]
  },
  {
   "cell_type": "code",
   "execution_count": 38,
   "metadata": {},
   "outputs": [
    {
     "data": {
      "text/plain": [
       "'{\\n  \"$or\": [\\n    { \"project_name\": { \"$regex\": \"包钢\", \"$options\": \"i\" } },\\n    { \"contract_number\": { \"$regex\": \"包钢\", \"$options\": \"i\" } },\\n    { \"contract_type\": { \"$regex\": \"包钢\", \"$options\": \"i\" } },\\n    { \"subitem_name\": { \"$regex\": \"包钢\", \"$options\": \"i\" } },\\n    { \"device_name\": { \"$regex\": \"包钢\", \"$options\": \"i\" } },\\n    { \"specification_material\": { \"$regex\": \"包钢\", \"$options\": \"i\" } },\\n    { \"manufacturer\": { \"$regex\": \"包钢\", \"$options\": \"i\" } }\\n  ]\\n}'"
      ]
     },
     "execution_count": 38,
     "metadata": {},
     "output_type": "execute_result"
    }
   ],
   "source": [
    "extract_last_result_query(r)"
   ]
  },
  {
   "cell_type": "code",
   "execution_count": null,
   "metadata": {},
   "outputs": [],
   "source": []
  }
 ],
 "metadata": {
  "kernelspec": {
   "display_name": "Python 3",
   "language": "python",
   "name": "python3"
  },
  "language_info": {
   "codemirror_mode": {
    "name": "ipython",
    "version": 3
   },
   "file_extension": ".py",
   "mimetype": "text/x-python",
   "name": "python",
   "nbconvert_exporter": "python",
   "pygments_lexer": "ipython3",
   "version": "3.12.7"
  }
 },
 "nbformat": 4,
 "nbformat_minor": 2
}
