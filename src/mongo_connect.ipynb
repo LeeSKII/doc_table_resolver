{
 "cells": [
  {
   "cell_type": "code",
   "execution_count": 4,
   "metadata": {},
   "outputs": [],
   "source": [
    "from pymongo import MongoClient\n",
    "def save_to_mongodb(transformed_data):\n",
    "    try:\n",
    "        # 连接到本地MongoDB (根据你的实际配置修改连接字符串)\n",
    "        client = MongoClient('mongodb://localhost:27017/')\n",
    "        \n",
    "        # 选择数据库和集合\n",
    "        db = client['equipment_db']  # 数据库名\n",
    "        collection = db['equipment_collection']  # 集合名\n",
    "        \n",
    "        # 插入数据\n",
    "        result = collection.insert_one(transformed_data)\n",
    "        print(f\"数据插入成功，ID: {result.inserted_id}\")\n",
    "        \n",
    "        # 关闭连接\n",
    "        client.close()\n",
    "    except Exception as e:\n",
    "        print(f\"发生错误: {str(e)}\")"
   ]
  },
  {
   "cell_type": "code",
   "execution_count": 5,
   "metadata": {},
   "outputs": [
    {
     "name": "stdout",
     "output_type": "stream",
     "text": [
      "数据插入成功，ID: 67da3f18558b56feea5312a2\n"
     ]
    }
   ],
   "source": [
    "save_to_mongodb({'name':'John'})"
   ]
  },
  {
   "cell_type": "code",
   "execution_count": 1,
   "metadata": {},
   "outputs": [
    {
     "name": "stdout",
     "output_type": "stream",
     "text": [
      "发生错误: unknown operator: $regexMatch, full error: {'ok': 0.0, 'errmsg': 'unknown operator: $regexMatch', 'code': 2, 'codeName': 'BadValue'}\n",
      "查询完成\n"
     ]
    }
   ],
   "source": [
    "from pymongo import MongoClient\n",
    "\n",
    "# 连接到 MongoDB\n",
    "def connect_to_mongodb():\n",
    "    # 替换为你的 MongoDB 连接字符串，例如 \"mongodb://localhost:27017/\"\n",
    "    uri = \"mongodb://localhost:27017/\"\n",
    "    client = MongoClient(uri)\n",
    "    # 替换为你的数据库名称\n",
    "    db = client[\"equipment_db\"]\n",
    "    # 替换为你的集合名称\n",
    "    collection = db[\"equipment_collection\"]\n",
    "    return collection\n",
    "\n",
    "# 执行聚合查询\n",
    "def run_aggregation_query(collection):\n",
    "    pipeline = [\n",
    "        {\n",
    "            \"$match\": {\n",
    "                \"$or\": [\n",
    "                    {\"project_name\": {\"$regex\": \"宝钢德胜\", \"$options\": \"i\"}},\n",
    "                    {\"contract_number\": {\"$regex\": \"宝钢德胜\", \"$options\": \"i\"}},\n",
    "                    {\"contract_type\": {\"$regex\": \"宝钢德胜\", \"$options\": \"i\"}},\n",
    "                    {\"subitem_name\": {\"$regex\": \"宝钢德胜\", \"$options\": \"i\"}},\n",
    "                    {\"device_name\": {\"$regex\": \"宝钢德胜\", \"$options\": \"i\"}},\n",
    "                    {\"specification_material\": {\"$regex\": \"宝钢德胜\", \"$options\": \"i\"}},\n",
    "                    {\"manufacturer\": {\"$regex\": \"宝钢德胜\", \"$options\": \"i\"}},\n",
    "                    {\n",
    "                        \"additional_info\": {\n",
    "                            \"$exists\": True,\n",
    "                            \"$not\": {\n",
    "                                \"$regexMatch\": {\n",
    "                                    \"input\": {\"$objectToArray\": \"$additional_info\"},\n",
    "                                    \"regex\": \"^(?!(.*?:.*宝钢德胜.*))$\",\n",
    "                                    \"options\": \"im\"\n",
    "                                }\n",
    "                            }\n",
    "                        }\n",
    "                    }\n",
    "                ]\n",
    "            }\n",
    "        }\n",
    "    ]\n",
    "\n",
    "    # 执行聚合查询\n",
    "    results = collection.aggregate(pipeline)\n",
    "    \n",
    "    # 处理结果\n",
    "    for doc in results:\n",
    "        print(doc)\n",
    "\n",
    "# 主函数\n",
    "def main():\n",
    "    try:\n",
    "        collection = connect_to_mongodb()\n",
    "        run_aggregation_query(collection)\n",
    "    except Exception as e:\n",
    "        print(f\"发生错误: {e}\")\n",
    "    finally:\n",
    "        # 可选择关闭连接\n",
    "        # client.close()\n",
    "        print(\"查询完成\")\n",
    "\n",
    "if __name__ == \"__main__\":\n",
    "    main()"
   ]
  },
  {
   "cell_type": "code",
   "execution_count": null,
   "metadata": {},
   "outputs": [],
   "source": []
  }
 ],
 "metadata": {
  "kernelspec": {
   "display_name": "Python 3",
   "language": "python",
   "name": "python3"
  },
  "language_info": {
   "codemirror_mode": {
    "name": "ipython",
    "version": 3
   },
   "file_extension": ".py",
   "mimetype": "text/x-python",
   "name": "python",
   "nbconvert_exporter": "python",
   "pygments_lexer": "ipython3",
   "version": "3.12.7"
  }
 },
 "nbformat": 4,
 "nbformat_minor": 2
}
