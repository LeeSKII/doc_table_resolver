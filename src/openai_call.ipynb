{
 "cells": [
  {
   "cell_type": "code",
   "execution_count": 29,
   "metadata": {},
   "outputs": [
    {
     "data": {
      "text/plain": [
       "True"
      ]
     },
     "execution_count": 29,
     "metadata": {},
     "output_type": "execute_result"
    }
   ],
   "source": [
    "from dotenv import load_dotenv\n",
    "import os\n",
    "from openai import OpenAI\n",
    "\n",
    "load_dotenv()"
   ]
  },
  {
   "cell_type": "code",
   "execution_count": 30,
   "metadata": {},
   "outputs": [
    {
     "name": "stdout",
     "output_type": "stream",
     "text": [
      "Hello! How can I assist you today? 😊\n"
     ]
    }
   ],
   "source": [
    "# 获取环境变量\n",
    "deepseek_base_url = os.getenv(\"DEEPSEEK_BASE_URL\")\n",
    "deepseek_api_key = os.getenv(\"DEEPSEEK_API_KEY\")\n",
    "\n",
    "client = OpenAI(api_key=deepseek_api_key, base_url=deepseek_base_url)\n",
    "\n",
    "response = client.chat.completions.create(\n",
    "    model=\"deepseek-chat\",\n",
    "    messages=[\n",
    "        {\"role\": \"system\", \"content\": \"You are a helpful assistant\"},\n",
    "        {\"role\": \"user\", \"content\": \"Hello\"},\n",
    "    ],\n",
    "    stream=False\n",
    ")\n",
    "\n",
    "print(response.choices[0].message.content)"
   ]
  },
  {
   "cell_type": "code",
   "execution_count": 40,
   "metadata": {},
   "outputs": [
    {
     "name": "stdout",
     "output_type": "stream",
     "text": [
      "Hello! How can I assist you today? \n"
     ]
    }
   ],
   "source": [
    "# 获取环境变量\n",
    "open_router_base_url = os.getenv(\"OPENROUTER_BASE_URL\")\n",
    "open_router_api_key = os.getenv(\"OPENROUTER_API_KEY\")\n",
    "\n",
    "client = OpenAI(base_url=open_router_base_url,api_key=open_router_api_key)\n",
    "\n",
    "response = client.chat.completions.create(\n",
    "    model=\"deepseek/deepseek-chat-v3-0324:free\",\n",
    "    messages=[\n",
    "        {\"role\": \"system\", \"content\": \"You are a helpful assistant\"},\n",
    "        {\"role\": \"user\", \"content\": \"Hello\"},\n",
    "    ],\n",
    "    stream=False\n",
    ")\n",
    "\n",
    "print(response.choices[0].message.content)"
   ]
  },
  {
   "cell_type": "code",
   "execution_count": 72,
   "metadata": {},
   "outputs": [],
   "source": [
    "system_prompt = '''请根据以下信息判断用户输入的数据是否符合电缆型号的标准，评判标准在<judgement></judgement>标签中。\n",
    "<judgement>\n",
    "电缆型号通常由以下部分组成：\n",
    "\n",
    "用途代码：如Y（电力电缆）、K（控制电缆）、P（信号电缆）等。\n",
    "绝缘材料代码：如Y（交联聚乙烯绝缘）、V（聚氯乙烯绝缘）。\n",
    "护套材料代码：如P（聚氯乙烯护套）、V（聚乙烯护套）。\n",
    "特殊性能代码：如Z（阻燃）、NH（耐火）。\n",
    "导体材料代码：如T（铜芯）、L（铝芯）。\n",
    "额定电压：如0.6/1kV、1/3kV等。\n",
    "芯数及截面：如3*15+1x35平方毫米，表示3根15平方毫米导体芯线和1根35平方毫米导体芯线。\n",
    "\n",
    "常见电缆型号示例:\n",
    "\n",
    "YJV：交联聚乙烯绝缘聚氯乙烯护套电力电缆，适用于室内、隧道及管道中。\n",
    "VV：聚氯乙烯绝缘和护套电力电缆，适用于室内、矿井中。\n",
    "KVVP：控制电缆，适用于电器、仪表、配电装置的信号传输。\n",
    "KVV：控制电缆，适用于室内、矿井中。\n",
    "耐火电缆：如NH-YJV，具有耐火特性，适用于火灾环境。\n",
    "阻燃电缆：如ZRA-YJV，具有阻燃特性，适用于普通环境。\n",
    "截面与规格提取方法\n",
    "\n",
    "根据型号中的数字部分，提取芯数和截面。例如，“495+150”表示4根95平方毫米导体芯线和1根50平方毫米导体芯线。\n",
    "通过型号中的电压等级确定电缆的额定电压，如“0.6/1kV”表示额定电压为0.6kV，耐受电压为1kV。\n",
    "\n",
    "训练数据示例\n",
    "\n",
    "输入：WDZAYJV-0.6/1.0-4×95+1×50\n",
    "输出：\n",
    "型号：WDZAYJV\n",
    "绝缘材料：交联聚乙烯绝缘\n",
    "护套材料：聚氯乙烯护套\n",
    "阻燃等级：A级阻燃\n",
    "导体材料：铜芯\n",
    "额定电压：0.6/1.0kV\n",
    "芯数及截面：4根95平方毫米导体芯线和1根50平方毫米导体芯线。\n",
    "\n",
    "注意事项\n",
    "不同型号的电缆可能具有相同的用途代码或绝缘材料代码，需结合其他信息进行区分。\n",
    "\n",
    "特殊性能代码（如耐火、阻燃）需优先识别，并根据具体需求标注。\n",
    "</judgement>\n",
    "\n",
    "根据以上评判标准，判断用户提供的数据是否符合电缆型号的标准。\n",
    "用户提供的数据在<data></data>标签内。\n",
    "请先step by step的进行分析，将分析结果写在<think></think>标签内，并给出最终结果放在<result></result>标签内。\n",
    "注意结果标签只允许为以下两种格式，请选择其中一种：\n",
    "<result>true</result>\n",
    "或者\n",
    "<result>false</result>\n",
    "如果判断出属于符合电缆型号的标准后，在用户提供的<data-table></data-table>数据标准表中查找对应的设备编号。请step by step的进行分析，将分析结果写在<think></think>标签内，并给出最终对应设备编号结果放在<code></code>标签内。\n",
    "如果没有在<data-table></data-table>中找到对应的设备编号，直接返回<code></code>空标签。\n",
    "'''\n",
    "\n",
    "prompt = '''124\t配料室\t屏蔽控制电缆\tKVV-500V\tKVVP-500  2*1.5\tm\t5600\t0\t0\t\t\t\t\n",
    "'''\n",
    "prompt = '''113\t配料室\t焊接钢管DN15\t\t\tm\t30\t0\t0\t\t\t\t\n",
    "'''\n",
    "prompt = '''126\t配料室\t屏蔽控制电缆\tKVV-500V\tKVV-500  5*1.0\tm\t10\t0\t0\t\t\t\t\n",
    "'''"
   ]
  },
  {
   "cell_type": "code",
   "execution_count": null,
   "metadata": {},
   "outputs": [],
   "source": [
    "prompt='''\n",
    "<data>129\t配料室\t屏蔽控制电缆\tKVVP-500V\tKVVP-500  10*1.5\tm\t60\t0\t0</data>\n",
    "<data-table>\n",
    "</data-table>\n",
    "'''"
   ]
  },
  {
   "cell_type": "code",
   "execution_count": 74,
   "metadata": {},
   "outputs": [],
   "source": [
    "def call_deepseek(base_url:str, api_key:str, prompt:str, system_prompt:str, model_name=\"deepseek-chat\",temperature=0):\n",
    "    try:\n",
    "        client = OpenAI(api_key=api_key, base_url=base_url)\n",
    "\n",
    "        response = client.chat.completions.create(\n",
    "            model=model_name,\n",
    "            temperature=temperature,       \n",
    "            messages=[\n",
    "                {\"role\": \"system\", \"content\": system_prompt},\n",
    "                {\"role\": \"user\", \"content\": prompt},\n",
    "            ],\n",
    "            stream=False\n",
    "        )\n",
    "        return response.choices[0].message.content\n",
    "    except Exception as e:\n",
    "        print(f'请求deepseek失败，原因：{e}')\n",
    "        return None\n"
   ]
  },
  {
   "cell_type": "code",
   "execution_count": 88,
   "metadata": {},
   "outputs": [
    {
     "name": "stdout",
     "output_type": "stream",
     "text": [
      "llm result:\n",
      " <think>\n",
      "1. 分析用户提供的电缆型号数据：\n",
      "   - 型号：KVVP-500V\n",
      "   - 规格：KVVP-500 10*1.5\n",
      "   - 用途：屏蔽控制电缆\n",
      "   - 电压等级：500V\n",
      "   - 芯数及截面：10芯，1.5平方毫米\n",
      "\n",
      "2. 检查是否符合电缆型号标准：\n",
      "   - K：控制电缆\n",
      "   - V：聚氯乙烯绝缘\n",
      "   - V：聚氯乙烯护套\n",
      "   - P：屏蔽\n",
      "   - 500V：电压等级\n",
      "   - 10*1.5：10芯1.5平方毫米\n",
      "   符合电缆型号标准。\n",
      "\n",
      "3. 在数据表中查找匹配项：\n",
      "   - 需要查找控制电缆KVVP，10芯1.5平方毫米\n",
      "   - 数据表中只有ZR-KVVP（阻燃）和通用控制电缆\n",
      "   - 没有找到完全匹配的KVVP-500V 10*1.5\n",
      "</think>\n",
      "\n",
      "<result>true</result>\n",
      "<code></code>\n"
     ]
    }
   ],
   "source": [
    "\n",
    "result = call_deepseek(base_url=open_router_base_url,api_key=open_router_api_key,system_prompt=system_prompt,prompt=prompt,model_name='deepseek/deepseek-chat-v3-0324:free')\n",
    "\n",
    "print(f'llm result:\\n {result}')"
   ]
  },
  {
   "cell_type": "code",
   "execution_count": null,
   "metadata": {},
   "outputs": [],
   "source": []
  }
 ],
 "metadata": {
  "kernelspec": {
   "display_name": "Python 3",
   "language": "python",
   "name": "python3"
  },
  "language_info": {
   "codemirror_mode": {
    "name": "ipython",
    "version": 3
   },
   "file_extension": ".py",
   "mimetype": "text/x-python",
   "name": "python",
   "nbconvert_exporter": "python",
   "pygments_lexer": "ipython3",
   "version": "3.12.6"
  }
 },
 "nbformat": 4,
 "nbformat_minor": 2
}
