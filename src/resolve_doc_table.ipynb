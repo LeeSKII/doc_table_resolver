{
 "cells": [
  {
   "cell_type": "code",
   "execution_count": 8,
   "metadata": {},
   "outputs": [],
   "source": [
    "file_path = \"C:\\\\Lee\\\\files\\\\03 循环风机采购合同.docx\"\n",
    "file_path= \"C:\\\\Lee\\\\files\\\\采购\\\\安阳钢铁集团有限责任公司综利公司烧结机头灰资源化处置项目（运营）\\\\01三级浆液泵泵头采购合同.docx\"\n",
    "file_path= \"C:\\\\Lee\\\\files\\\\采购\\\\安阳钢铁集团有限责任公司综利公司烧结机头灰资源化处置项目（运营）\\\\04 渣浆泵备件采购合同.docx\""
   ]
  },
  {
   "cell_type": "code",
   "execution_count": 9,
   "metadata": {},
   "outputs": [
    {
     "name": "stdout",
     "output_type": "stream",
     "text": [
      "找到一个表格：\n",
      "['序号', '货物名称', '规格型号', '单位', '数量', '单   价\\n（元RMB）', '总   价\\n（元RMB）', '交 货 期', '交货\\n地点', '交货方式']\n",
      "['1', '渣浆泵泵头', '流量：20m3/h，扬程:30m，含固量10%-40%。材质：CR26.', '个', '1', '22600', '22600', '2024．12.15', '安阳钢铁', '汽运']\n",
      "['2', '机械密封', 'LC-B40/300T', '套', '1', '2800', '2800', '2024．12.15', '安阳钢铁', '汽运']\n",
      "['3', '叶轮', 'LC-B40/300T', '件', '1', '2650', '2650', '2024．12.15', '安阳钢铁', '汽运']\n",
      "['4', '泵盖', 'LC-B40/300T', '件', '1', '2380', '2380', '2024．12.15', '安阳钢铁', '汽运']\n",
      "['总  计', '总  计', '总  计', '总  计', '总  计', '总  计', '30430', '', '', '']\n",
      "['注：1、本合同单价为含增值税、含运输费、包装费。', '注：1、本合同单价为含增值税、含运输费、包装费。', '注：1、本合同单价为含增值税、含运输费、包装费。', '注：1、本合同单价为含增值税、含运输费、包装费。', '注：1、本合同单价为含增值税、含运输费、包装费。', '注：1、本合同单价为含增值税、含运输费、包装费。', '注：1、本合同单价为含增值税、含运输费、包装费。', '注：1、本合同单价为含增值税、含运输费、包装费。', '注：1、本合同单价为含增值税、含运输费、包装费。', '注：1、本合同单价为含增值税、含运输费、包装费。']\n",
      "--------------------------------------------------\n",
      "找到一个表格：\n",
      "['序 号', '图纸、资料和技术文件名称']\n",
      "['1', '发货清单、装箱清单']\n",
      "['2', '产品合格证、质量检验证书、进口设备原产地证（若有）']\n",
      "['3', '装配图纸、原理图、接线图、系统图等']\n",
      "['4', '安装使用说明书、操作和维修手册']\n",
      "['5', '随机备品备件清单、易损件清单、润滑油清单']\n",
      "['6', '产品检验记录及报告']\n",
      "['7', '其它']\n",
      "--------------------------------------------------\n"
     ]
    }
   ],
   "source": [
    "from docx import Document\n",
    "\n",
    "def parse_docx_tables(file_path):\n",
    "    # 打开 .docx 文件\n",
    "    doc = Document(file_path)\n",
    "    \n",
    "    # 遍历文档中的所有表格\n",
    "    for table in doc.tables:\n",
    "        print(\"找到一个表格：\")\n",
    "        # 遍历表格的每一行\n",
    "        for row in table.rows:\n",
    "            row_data = []\n",
    "            # 遍历每一行的每个单元格\n",
    "            for cell in row.cells:\n",
    "                row_data.append(cell.text.strip())  # 获取单元格文本并去除多余空格\n",
    "            print(row_data)  # 打印该行内容\n",
    "        print(\"-\" * 50)  # 分隔不同表格\n",
    "\n",
    "# 示例用法\n",
    "\n",
    "parse_docx_tables(file_path)"
   ]
  },
  {
   "cell_type": "code",
   "execution_count": null,
   "metadata": {},
   "outputs": [],
   "source": []
  }
 ],
 "metadata": {
  "kernelspec": {
   "display_name": "Python 3",
   "language": "python",
   "name": "python3"
  },
  "language_info": {
   "codemirror_mode": {
    "name": "ipython",
    "version": 3
   },
   "file_extension": ".py",
   "mimetype": "text/x-python",
   "name": "python",
   "nbconvert_exporter": "python",
   "pygments_lexer": "ipython3",
   "version": "3.12.7"
  }
 },
 "nbformat": 4,
 "nbformat_minor": 2
}
