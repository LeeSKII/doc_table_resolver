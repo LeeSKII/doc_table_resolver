{
 "cells": [
  {
   "cell_type": "code",
   "execution_count": 1,
   "metadata": {},
   "outputs": [],
   "source": [
    "from utils.llm import call_ollama"
   ]
  },
  {
   "cell_type": "code",
   "execution_count": 2,
   "metadata": {},
   "outputs": [
    {
     "name": "stdout",
     "output_type": "stream",
     "text": [
      "Call ollama:\n",
      " <think>\n",
      "\n",
      "</think>\n",
      "\n",
      "你好！今天过得怎么样？\n"
     ]
    }
   ],
   "source": [
    "print(f'Call ollama:\\n',call_ollama('http://192.168.43.41:11434','你好','','qwq:latest'))"
   ]
  },
  {
   "cell_type": "code",
   "execution_count": 3,
   "metadata": {},
   "outputs": [],
   "source": [
    "from concurrent.futures import ThreadPoolExecutor\n",
    "import time"
   ]
  },
  {
   "cell_type": "code",
   "execution_count": 4,
   "metadata": {},
   "outputs": [],
   "source": [
    "data = [\n",
    "    {\"host\": \"http://192.168.43.41:11434\", \"prompt\":\"你好\",'system_prompt':\"\",\"model\":'qwq:latest'},\n",
    "]"
   ]
  },
  {
   "cell_type": "code",
   "execution_count": 5,
   "metadata": {},
   "outputs": [],
   "source": [
    "data = data * 8"
   ]
  },
  {
   "cell_type": "code",
   "execution_count": 6,
   "metadata": {},
   "outputs": [],
   "source": [
    "def parallel(data):\n",
    "    with ThreadPoolExecutor(max_workers=30) as executor:\n",
    "        \"\"\"Process multiple inputs concurrently with the same prompt.\"\"\"\n",
    "        futures = [executor.submit(call_ollama,**item) for item in data]\n",
    "        return [f.result() for f in futures]"
   ]
  },
  {
   "cell_type": "code",
   "execution_count": 7,
   "metadata": {},
   "outputs": [
    {
     "name": "stdout",
     "output_type": "stream",
     "text": [
      "count of data: 8\n"
     ]
    }
   ],
   "source": [
    "print(f'count of data: {len(data)}')\n",
    "llm_result = parallel(data)"
   ]
  },
  {
   "cell_type": "code",
   "execution_count": 8,
   "metadata": {},
   "outputs": [
    {
     "name": "stdout",
     "output_type": "stream",
     "text": [
      "<think>\n",
      "\n",
      "</think>\n",
      "\n",
      "你好！今天过得怎么样？\n",
      "<think>\n",
      "\n",
      "</think>\n",
      "\n",
      "你好！今天过得怎么样？\n",
      "<think>\n",
      "\n",
      "</think>\n",
      "\n",
      "你好！今天过得怎么样？\n",
      "<think>\n",
      "\n",
      "</think>\n",
      "\n",
      "你好！今天过得怎么样？\n",
      "<think>\n",
      "\n",
      "</think>\n",
      "\n",
      "你好！今天过得怎么样？\n",
      "<think>\n",
      "\n",
      "</think>\n",
      "\n",
      "你好！今天过得怎么样？\n",
      "<think>\n",
      "\n",
      "</think>\n",
      "\n",
      "你好！今天过得怎么样？\n",
      "<think>\n",
      "\n",
      "</think>\n",
      "\n",
      "你好！今天过得怎么样？\n"
     ]
    }
   ],
   "source": [
    "for result in llm_result:\n",
    "    print(result)"
   ]
  },
  {
   "cell_type": "code",
   "execution_count": 9,
   "metadata": {},
   "outputs": [],
   "source": [
    "from concurrent.futures import ThreadPoolExecutor\n",
    "\n",
    "def process_item(item):\n",
    "    # 这里是你要对每个item执行的处理函数\n",
    "    print(f\"处理项: {item}\")\n",
    "    # 你的处理逻辑写在这里\n",
    "    return item * 2  # 示例返回值\n",
    "\n",
    "def process_list_concurrently(items_list, max_workers=4):\n",
    "    # max_workers控制最大并发数，可根据需要调整\n",
    "    with ThreadPoolExecutor(max_workers=max_workers) as executor:\n",
    "        # 提交所有任务，不等待结果\n",
    "        executor.map(process_item, items_list)"
   ]
  },
  {
   "cell_type": "code",
   "execution_count": 10,
   "metadata": {},
   "outputs": [
    {
     "name": "stdout",
     "output_type": "stream",
     "text": [
      "处理项: 1\n",
      "处理项: 2\n",
      "处理项: 3\n",
      "处理项: 4\n",
      "处理项: 5\n",
      "处理项: 6\n",
      "处理项: 7\n",
      "处理项: 8\n",
      "处理项: 9\n",
      "处理项: 10\n"
     ]
    }
   ],
   "source": [
    " # 你的参数列表\n",
    "items = [1, 2, 3, 4, 5, 6, 7, 8, 9, 10]\n",
    "# 直接开始处理\n",
    "process_list_concurrently(items)"
   ]
  },
  {
   "cell_type": "code",
   "execution_count": null,
   "metadata": {},
   "outputs": [],
   "source": []
  }
 ],
 "metadata": {
  "kernelspec": {
   "display_name": "Python 3",
   "language": "python",
   "name": "python3"
  },
  "language_info": {
   "codemirror_mode": {
    "name": "ipython",
    "version": 3
   },
   "file_extension": ".py",
   "mimetype": "text/x-python",
   "name": "python",
   "nbconvert_exporter": "python",
   "pygments_lexer": "ipython3",
   "version": "3.12.7"
  }
 },
 "nbformat": 4,
 "nbformat_minor": 2
}
